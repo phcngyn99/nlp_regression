{
 "cells": [
  {
   "cell_type": "code",
   "execution_count": 1,
   "metadata": {},
   "outputs": [],
   "source": [
    "# DON'T CHANGE this part: import libraries\n",
    "import numpy as np\n",
    "import scipy\n",
    "import json\n",
    "from nltk.stem import PorterStemmer \n",
    "from nltk.corpus import stopwords\n",
    "from nltk.tokenize import word_tokenize \n",
    "import re\n",
    "import itertools"
   ]
  },
  {
   "cell_type": "code",
   "execution_count": 2,
   "metadata": {},
   "outputs": [
    {
     "name": "stdin",
     "output_type": "stream",
     "text": [
      " train.json valid.json 58\n"
     ]
    }
   ],
   "source": [
    "# DON'T CHANGE this part: read data path\n",
    "train_set_path, valid_set_path, random_number = input().split()"
   ]
  },
  {
   "cell_type": "code",
   "execution_count": 3,
   "metadata": {},
   "outputs": [],
   "source": [
    "# TODO:\n",
    "# 1. preprocess: converting text to lowercase, coverting number, tokenization, removing stopword, stemming\n",
    "# 2. embedding: hitogram matrix\n",
    "# 3. classifier using linear regression\n",
    "# 4. accuracy (for metric)"
   ]
  },
  {
   "cell_type": "markdown",
   "metadata": {},
   "source": [
    "#### Ví dụ cho phần báo cáo, nên báo cáo cho từng phần code để rõ ràng\n",
    "\n",
    "Báo cáo phần tiền xử lý: dùng xyz để tách từ, ...\n",
    "\n",
    "... Đối với những từ out-of-vocab (xuất hiện trong tập train nhưng không có ở tập valid), xử lý bằng cách ... "
   ]
  },
  {
   "cell_type": "markdown",
   "metadata": {},
   "source": [
    "    Load the dataset with provided path from the input."
   ]
  },
  {
   "cell_type": "code",
   "execution_count": 4,
   "metadata": {},
   "outputs": [],
   "source": [
    "def load_dataset(train_set_path,valid_set_path):\n",
    "    with open(train_set_path) as f:\n",
    "        train = json.load(f)\n",
    "    with open(valid_set_path) as f:\n",
    "        valid = json.load(f)\n",
    "    return train, valid"
   ]
  },
  {
   "cell_type": "markdown",
   "metadata": {},
   "source": [
    "    Converting numbers to 'num'.\n",
    "    Using regular expression 'r'\\d+' to list out all the number then convert them to interger to sort (big to small) and back to string to ready for replacing step.\n",
    "    The reverse sorting step is important due to python built in string replace function, if not the number with small value will be replaced first, left a mess in a long digit number."
   ]
  },
  {
   "cell_type": "code",
   "execution_count": 5,
   "metadata": {},
   "outputs": [],
   "source": [
    "def numb2str(text):\n",
    "    number_list = re.findall(r'\\d+', text)\n",
    "    number_list = [int(number) for number in number_list]\n",
    "    number_list = sorted(number_list, reverse = True)\n",
    "    number_list = [str(number) for number in number_list]\n",
    "    for number in number_list:\n",
    "        text = text.replace(number,'num')\n",
    "    return text"
   ]
  },
  {
   "cell_type": "markdown",
   "metadata": {},
   "source": [
    "    Preprocessing the trainning set.\n",
    "    Use lower to low case the text and numb2str to convert them to 'num'.\n",
    "    Use word_tokenize() to split the sentence to word array.\n",
    "    Only keeps the word that is not in stop words.\n",
    "    Stemming with PorterStemmer.\n",
    "    Append each word to the list and make it a set."
   ]
  },
  {
   "cell_type": "code",
   "execution_count": 6,
   "metadata": {},
   "outputs": [],
   "source": [
    "def train_preprocess(dataset,text,stop_words):\n",
    "    vocab = []\n",
    "    for data in dataset:\n",
    "        data[text] = data[text].lower()\n",
    "        data[text] = numb2str(data[text])\n",
    "        data[text] = word_tokenize(data[text])\n",
    "        data[text] = [word for word in data[text] if word not in stop_words]\n",
    "        data[text] = [ps.stem(word) for word in data[text]]\n",
    "        [vocab.append(word) for word in data[text]]\n",
    "        vocab_set = sorted(set(vocab))\n",
    "    return dataset, vocab_set"
   ]
  },
  {
   "cell_type": "markdown",
   "metadata": {},
   "source": [
    "    Preprocessing the testing set.\n",
    "    Almost the same with train_preprocess but only keeps the word that already exists in the vocabulary set, the others are turn to 'unk'."
   ]
  },
  {
   "cell_type": "code",
   "execution_count": 7,
   "metadata": {},
   "outputs": [],
   "source": [
    "def test_preprocess(dataset,vocab,text,stop_words):\n",
    "    for data in dataset:\n",
    "        data[text] = data[text].lower()\n",
    "        data[text] = numb2str(data[text])\n",
    "        data[text] = word_tokenize(data[text])\n",
    "        data[text] = [word for word in data[text] if word not in stop_words]\n",
    "        data[text] = [ps.stem(word) if ps.stem(word) in vocab else 'unk' for word in data[text]]\n",
    "    return dataset"
   ]
  },
  {
   "cell_type": "markdown",
   "metadata": {},
   "source": [
    "    Embedding.\n",
    "    Create a dictionary to store word appearence with the keys come from vocabulary and default value is set to 0.\n",
    "    Due to using dictionary the counting step is much easier and it wont be affect from sequencetial. The counter automatically increases 1 at the key which is the same as the word. 'Unk' isn't exist in the vocabulary so it doesn't count.\n",
    "    A sentence generates a histogram vector and histograms vectors generate a histogram matrix."
   ]
  },
  {
   "cell_type": "code",
   "execution_count": 8,
   "metadata": {},
   "outputs": [],
   "source": [
    "def document_embedding(dataset,text,vocab):\n",
    "    hist_matrix = []\n",
    "    for data in  dataset:\n",
    "        word_count = dict.fromkeys(vocab,0)\n",
    "        for word in data[text]:\n",
    "            if word != 'unk':\n",
    "                word_count[word] += 1\n",
    "        hist_vec = list(word_count.values())\n",
    "        hist_matrix.append(hist_vec)\n",
    "    return np.array(hist_matrix)"
   ]
  },
  {
   "cell_type": "markdown",
   "metadata": {},
   "source": [
    "    Label encoder.\n",
    "    Basically the review score ('overall') is treated as a categorial feature, so dummy it is a good way to generate a vector with 5 spaces. The idea likes asking each vector spaces if they have or not, if yes put 1 to that space and ofcourse the others are no and getting 0 putting at. Sequencetially dumming all the score to generate the label matrix.\n",
    "    "
   ]
  },
  {
   "cell_type": "code",
   "execution_count": 9,
   "metadata": {},
   "outputs": [],
   "source": [
    "def label_encoder(dataset,target):\n",
    "    y = []\n",
    "    for data in dataset:\n",
    "        review_score = [0]*5\n",
    "        review_score[int(data[target]-1)] =  1\n",
    "        y.append(review_score)\n",
    "    return np.array(y)"
   ]
  },
  {
   "cell_type": "markdown",
   "metadata": {},
   "source": [
    "    Fitting.\n",
    "    Using OLS formular:\n",
    "#### $$ w = A.b$$\n",
    "#### $$A = (X^T.X)\\dagger$$\n",
    "#### $$b = (X^T.y) $$\n",
    "    Taking in X as the histogram matrix and y as labels array. On this approach the weights will be the shape of ( vocabulary, number of label spaces). "
   ]
  },
  {
   "cell_type": "code",
   "execution_count": 10,
   "metadata": {},
   "outputs": [],
   "source": [
    "def linear_regression(X,y):\n",
    "    A = np.linalg.pinv(X.T@X)\n",
    "    b = X.T@y\n",
    "    weights = A@b\n",
    "    return weights"
   ]
  },
  {
   "cell_type": "markdown",
   "metadata": {},
   "source": [
    "    Predict.\n",
    "    Using theory formular: predict =weight_0+ weight_1.attribute_1 + weight_2.attribute_2 +weight_3.attribute_3 + ... + weight_n.attribute_n.\n",
    "    The output is a vector with 5 spaces, pass it through the softmax function to know which has the highest probability then find that space and adding 1 due to index of an array starting from 0."
   ]
  },
  {
   "cell_type": "code",
   "execution_count": 11,
   "metadata": {},
   "outputs": [],
   "source": [
    "def predict(X,weights):\n",
    "    predict = [weights[0]]\n",
    "    for i in range(len(X)):\n",
    "        res = X[i]*weights[i+1]\n",
    "        predict.append(res)\n",
    "    predict = np.sum(predict, axis= 0)\n",
    "    predict_softmax = scipy.special.softmax(predict)\n",
    "    final_predict = np.argmax(predict_softmax) +1\n",
    "    return final_predict"
   ]
  },
  {
   "cell_type": "markdown",
   "metadata": {},
   "source": [
    "    Accuracy.\n",
    "    Compute accuracy score with the formular."
   ]
  },
  {
   "cell_type": "code",
   "execution_count": 12,
   "metadata": {},
   "outputs": [],
   "source": [
    "def accuracy_score(y_predict, y_true):\n",
    "    total = len(y_predict)\n",
    "    right = [1 if y_predict[i] == y_true[i] else 0 for i in range(total)]\n",
    "    return sum(right)/total"
   ]
  },
  {
   "cell_type": "markdown",
   "metadata": {},
   "source": [
    "    Initialize parameters."
   ]
  },
  {
   "cell_type": "code",
   "execution_count": 13,
   "metadata": {},
   "outputs": [],
   "source": [
    "text = 'reviewText'\n",
    "review = 'overall'\n",
    "stop_words = stopwords.words('english')\n",
    "ps = PorterStemmer()"
   ]
  },
  {
   "cell_type": "markdown",
   "metadata": {},
   "source": [
    "    Load the dataset then preprocessing."
   ]
  },
  {
   "cell_type": "code",
   "execution_count": 14,
   "metadata": {},
   "outputs": [],
   "source": [
    "train_set, valid_set = load_dataset(train_set_path, valid_set_path)\n",
    "train_set, vocab =  train_preprocess(train_set,text,stop_words)\n",
    "valid_set =  test_preprocess(valid_set,vocab,text,stop_words)"
   ]
  },
  {
   "cell_type": "markdown",
   "metadata": {},
   "source": [
    "    Embedding document, label encoding and generating y_true."
   ]
  },
  {
   "cell_type": "code",
   "execution_count": 15,
   "metadata": {},
   "outputs": [],
   "source": [
    "X_train =  document_embedding(train_set,text,vocab)\n",
    "X_valid =  document_embedding(valid_set,text,vocab)\n",
    "y_train =  label_encoder(train_set,review)\n",
    "y_valid = [int(data[review]) for data in valid_set]"
   ]
  },
  {
   "cell_type": "markdown",
   "metadata": {},
   "source": [
    "    Adding Constant to the input matrix."
   ]
  },
  {
   "cell_type": "code",
   "execution_count": 16,
   "metadata": {},
   "outputs": [],
   "source": [
    "X_train = np.concatenate((np.ones(shape=(X_train.shape[0],1)),X_train),axis=1)"
   ]
  },
  {
   "cell_type": "markdown",
   "metadata": {},
   "source": [
    "    Building model."
   ]
  },
  {
   "cell_type": "code",
   "execution_count": 17,
   "metadata": {},
   "outputs": [],
   "source": [
    "weights = linear_regression(X_train,y_train)"
   ]
  },
  {
   "cell_type": "markdown",
   "metadata": {},
   "source": [
    "    Predicting."
   ]
  },
  {
   "cell_type": "code",
   "execution_count": 18,
   "metadata": {},
   "outputs": [],
   "source": [
    "y_predict = [predict(X,weights) for X in X_valid]"
   ]
  },
  {
   "cell_type": "markdown",
   "metadata": {},
   "source": [
    "    Calculating accuray."
   ]
  },
  {
   "cell_type": "code",
   "execution_count": 19,
   "metadata": {},
   "outputs": [],
   "source": [
    "accuracy = accuracy_score(y_predict, y_valid)"
   ]
  },
  {
   "cell_type": "markdown",
   "metadata": {},
   "source": [
    "    Printing stuff.\n",
    "    The only chance to get Accuracy = 0.556 is when you dupplicate 2 times the bias (Tested)."
   ]
  },
  {
   "cell_type": "code",
   "execution_count": 20,
   "metadata": {},
   "outputs": [
    {
     "name": "stdout",
     "output_type": "stream",
     "text": [
      "['great', 'project', ',', 'littl', 'hard', 'read', 'direct', ',', 'think', 'due', ',', 'direct', '.', 'happi', 'bought', 'book']\n",
      "M2 - 0.484\n"
     ]
    }
   ],
   "source": [
    "print(valid_set[int(random_number)][text])\n",
    "print(f'M2 - {accuracy}')"
   ]
  },
  {
   "cell_type": "code",
   "execution_count": null,
   "metadata": {},
   "outputs": [],
   "source": []
  }
 ],
 "metadata": {
  "kernelspec": {
   "display_name": "Python 3",
   "language": "python",
   "name": "python3"
  },
  "language_info": {
   "codemirror_mode": {
    "name": "ipython",
    "version": 3
   },
   "file_extension": ".py",
   "mimetype": "text/x-python",
   "name": "python",
   "nbconvert_exporter": "python",
   "pygments_lexer": "ipython3",
   "version": "3.7.7"
  }
 },
 "nbformat": 4,
 "nbformat_minor": 4
}
